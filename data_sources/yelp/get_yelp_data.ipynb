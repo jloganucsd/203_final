{
 "cells": [
  {
   "cell_type": "markdown",
   "metadata": {},
   "source": [
    "# Yelp"
   ]
  },
  {
   "cell_type": "markdown",
   "metadata": {},
   "source": [
    "**[Work in progress]**\n",
    "\n",
    "This notebook creates a .csv file with yelp information for ingestion into the Knowledge Graph."
   ]
  },
  {
   "cell_type": "code",
   "execution_count": 55,
   "metadata": {},
   "outputs": [],
   "source": [
    "import os\n",
    "import json\n",
    "import pandas as pd \n",
    "\n",
    "from pathlib import Path\n",
    "from yelpapi import YelpAPI\n",
    "from pprint import pprint\n"
   ]
  },
  {
   "cell_type": "code",
   "execution_count": 21,
   "metadata": {},
   "outputs": [],
   "source": [
    "# insert rest api key here\n",
    "api_key = ''\n",
    "yelp_api = YelpAPI(api_key)"
   ]
  },
  {
   "cell_type": "code",
   "execution_count": 47,
   "metadata": {},
   "outputs": [],
   "source": [
    "# San Diego\n",
    "term = 'restaurant'\n",
    "latitude = 32.710\n",
    "longitude = -117.170\n",
    "limit = 50\n",
    "radius = 5000 # 5km radius = 0.1 degree\n",
    "offset = 0"
   ]
  },
  {
   "cell_type": "code",
   "execution_count": 90,
   "metadata": {
    "scrolled": false
   },
   "outputs": [
    {
     "name": "stdout",
     "output_type": "stream",
     "text": [
      "Scrapping offset: 0\n",
      "Scrapping offset: 50\n",
      "Scrapping offset: 100\n",
      "Scrapping offset: 150\n",
      "Scrapping offset: 200\n",
      "Scrapping offset: 250\n",
      "Scrapping offset: 300\n",
      "Scrapping offset: 350\n",
      "Scrapping offset: 400\n",
      "Scrapping offset: 450\n",
      "Scrapping offset: 500\n",
      "Scrapping offset: 550\n",
      "Scrapping offset: 600\n",
      "Scrapping offset: 650\n",
      "Scrapping offset: 700\n",
      "Scrapping offset: 750\n",
      "Scrapping offset: 800\n",
      "Scrapping offset: 850\n",
      "Scrapping offset: 900\n",
      "Scrapping offset: 950\n"
     ]
    }
   ],
   "source": [
    "# Maximum 1000 restaurant can be pulled\n",
    "scrapped = 0\n",
    "df_combined = None \n",
    "for i in range(20):\n",
    "    print('Scrapping offset: {}'.format(50 * i))\n",
    "    response = yelp_api.search_query(term=term, latitude=latitude, longitude=longitude, \n",
    "                                     limit=limit, radius=radius, offset=scrapped)\n",
    "    scrapped += len(response['businesses'])\n",
    "    df = pd.json_normalize(response['businesses'])    \n",
    "    \n",
    "    if df_combined is not None:\n",
    "        df_combined = pd.concat([df_combined, df], sort=False, ignore_index=True)\n",
    "    else:       \n",
    "        df_combined = df.copy()\n",
    "\n",
    "    # More to scrapped from this location\n",
    "    if response['total'] <= scrapped:\n",
    "        print('Completed scrapping for this location')\n",
    "        break"
   ]
  },
  {
   "cell_type": "code",
   "execution_count": 91,
   "metadata": {},
   "outputs": [
    {
     "data": {
      "text/plain": [
       "1400"
      ]
     },
     "execution_count": 91,
     "metadata": {},
     "output_type": "execute_result"
    }
   ],
   "source": [
    "response['total']"
   ]
  },
  {
   "cell_type": "code",
   "execution_count": 92,
   "metadata": {},
   "outputs": [],
   "source": [
    "columns={\n",
    "    'coordinates.latitude':'coordinates_latitude',\n",
    "    'coordinates.longitude':'coordinates_longitude',    \n",
    "    'location.address1':'location_address1',\n",
    "    'location.address2':'location_address2',\n",
    "    'location.address3':'location_address3',\n",
    "    'location.city':'location_city',\n",
    "    'location.zip_code':'location_zip_code',\n",
    "    'location.country':'location_country',\n",
    "    'location.state':'location_state',\n",
    "    'location.display_address':'location_display_address',\n",
    "}\n",
    "df_final = df_combined.rename(columns=columns)"
   ]
  },
  {
   "cell_type": "code",
   "execution_count": 93,
   "metadata": {},
   "outputs": [
    {
     "data": {
      "text/html": [
       "<div>\n",
       "<style scoped>\n",
       "    .dataframe tbody tr th:only-of-type {\n",
       "        vertical-align: middle;\n",
       "    }\n",
       "\n",
       "    .dataframe tbody tr th {\n",
       "        vertical-align: top;\n",
       "    }\n",
       "\n",
       "    .dataframe thead th {\n",
       "        text-align: right;\n",
       "    }\n",
       "</style>\n",
       "<table border=\"1\" class=\"dataframe\">\n",
       "  <thead>\n",
       "    <tr style=\"text-align: right;\">\n",
       "      <th></th>\n",
       "      <th>id</th>\n",
       "      <th>alias</th>\n",
       "      <th>name</th>\n",
       "      <th>image_url</th>\n",
       "      <th>is_closed</th>\n",
       "      <th>url</th>\n",
       "      <th>review_count</th>\n",
       "      <th>categories</th>\n",
       "      <th>rating</th>\n",
       "      <th>transactions</th>\n",
       "      <th>...</th>\n",
       "      <th>coordinates_latitude</th>\n",
       "      <th>coordinates_longitude</th>\n",
       "      <th>location_address1</th>\n",
       "      <th>location_address2</th>\n",
       "      <th>location_address3</th>\n",
       "      <th>location_city</th>\n",
       "      <th>location_zip_code</th>\n",
       "      <th>location_country</th>\n",
       "      <th>location_state</th>\n",
       "      <th>location_display_address</th>\n",
       "    </tr>\n",
       "  </thead>\n",
       "  <tbody>\n",
       "    <tr>\n",
       "      <th>0</th>\n",
       "      <td>4_vPdLbDx0Iadr2nANyCQQ</td>\n",
       "      <td>puesto-at-the-headquarters-san-diego-7</td>\n",
       "      <td>Puesto at the Headquarters</td>\n",
       "      <td>https://s3-media2.fl.yelpcdn.com/bphoto/ixmqgQ...</td>\n",
       "      <td>False</td>\n",
       "      <td>https://www.yelp.com/biz/puesto-at-the-headqua...</td>\n",
       "      <td>3862</td>\n",
       "      <td>[{'alias': 'mexican', 'title': 'Mexican'}, {'a...</td>\n",
       "      <td>4.0</td>\n",
       "      <td>[pickup, delivery]</td>\n",
       "      <td>...</td>\n",
       "      <td>32.711340</td>\n",
       "      <td>-117.170000</td>\n",
       "      <td>789 W Harbor Dr</td>\n",
       "      <td>Ste 155</td>\n",
       "      <td>None</td>\n",
       "      <td>San Diego</td>\n",
       "      <td>92101</td>\n",
       "      <td>US</td>\n",
       "      <td>CA</td>\n",
       "      <td>[789 W Harbor Dr, Ste 155, San Diego, CA 92101]</td>\n",
       "    </tr>\n",
       "    <tr>\n",
       "      <th>1</th>\n",
       "      <td>Sa_qcnc7ZgzSOylf3plTRA</td>\n",
       "      <td>c-level-san-diego</td>\n",
       "      <td>C Level</td>\n",
       "      <td>https://s3-media4.fl.yelpcdn.com/bphoto/rE2Ti2...</td>\n",
       "      <td>False</td>\n",
       "      <td>https://www.yelp.com/biz/c-level-san-diego?adj...</td>\n",
       "      <td>3159</td>\n",
       "      <td>[{'alias': 'newamerican', 'title': 'American (...</td>\n",
       "      <td>4.0</td>\n",
       "      <td>[]</td>\n",
       "      <td>...</td>\n",
       "      <td>32.724183</td>\n",
       "      <td>-117.188348</td>\n",
       "      <td>880 Harbor Island Dr</td>\n",
       "      <td></td>\n",
       "      <td></td>\n",
       "      <td>San Diego</td>\n",
       "      <td>92101</td>\n",
       "      <td>US</td>\n",
       "      <td>CA</td>\n",
       "      <td>[880 Harbor Island Dr, San Diego, CA 92101]</td>\n",
       "    </tr>\n",
       "    <tr>\n",
       "      <th>2</th>\n",
       "      <td>OW2VM6KY0s2Ir04xg_o1sg</td>\n",
       "      <td>eddie-vs-prime-seafood-and-steaks-san-diego-2</td>\n",
       "      <td>Eddie V's Prime Seafood and Steaks</td>\n",
       "      <td>https://s3-media2.fl.yelpcdn.com/bphoto/lYxMnk...</td>\n",
       "      <td>False</td>\n",
       "      <td>https://www.yelp.com/biz/eddie-vs-prime-seafoo...</td>\n",
       "      <td>1346</td>\n",
       "      <td>[{'alias': 'seafood', 'title': 'Seafood'}, {'a...</td>\n",
       "      <td>4.5</td>\n",
       "      <td>[]</td>\n",
       "      <td>...</td>\n",
       "      <td>32.710496</td>\n",
       "      <td>-117.170761</td>\n",
       "      <td>789 W Harbor Dr</td>\n",
       "      <td></td>\n",
       "      <td></td>\n",
       "      <td>San Diego</td>\n",
       "      <td>92101</td>\n",
       "      <td>US</td>\n",
       "      <td>CA</td>\n",
       "      <td>[789 W Harbor Dr, San Diego, CA 92101]</td>\n",
       "    </tr>\n",
       "    <tr>\n",
       "      <th>3</th>\n",
       "      <td>7g8CKU-UqEJ4bnIH2G5HCQ</td>\n",
       "      <td>cafe-sevilla-san-diego</td>\n",
       "      <td>Cafe Sevilla</td>\n",
       "      <td>https://s3-media3.fl.yelpcdn.com/bphoto/9HZ24s...</td>\n",
       "      <td>False</td>\n",
       "      <td>https://www.yelp.com/biz/cafe-sevilla-san-dieg...</td>\n",
       "      <td>3331</td>\n",
       "      <td>[{'alias': 'spanish', 'title': 'Spanish'}, {'a...</td>\n",
       "      <td>4.0</td>\n",
       "      <td>[restaurant_reservation, pickup, delivery]</td>\n",
       "      <td>...</td>\n",
       "      <td>32.708977</td>\n",
       "      <td>-117.159964</td>\n",
       "      <td>353 5th Ave</td>\n",
       "      <td></td>\n",
       "      <td></td>\n",
       "      <td>San Diego</td>\n",
       "      <td>92101</td>\n",
       "      <td>US</td>\n",
       "      <td>CA</td>\n",
       "      <td>[353 5th Ave, San Diego, CA 92101]</td>\n",
       "    </tr>\n",
       "    <tr>\n",
       "      <th>4</th>\n",
       "      <td>W0dzJ7E6R3kyAOXIlO_tbw</td>\n",
       "      <td>ristorante-illando-san-diego</td>\n",
       "      <td>Ristorante Illando</td>\n",
       "      <td>https://s3-media3.fl.yelpcdn.com/bphoto/FXO-Kk...</td>\n",
       "      <td>False</td>\n",
       "      <td>https://www.yelp.com/biz/ristorante-illando-sa...</td>\n",
       "      <td>1204</td>\n",
       "      <td>[{'alias': 'italian', 'title': 'Italian'}]</td>\n",
       "      <td>4.5</td>\n",
       "      <td>[pickup, restaurant_reservation, delivery]</td>\n",
       "      <td>...</td>\n",
       "      <td>32.724049</td>\n",
       "      <td>-117.168190</td>\n",
       "      <td>1825 India Street</td>\n",
       "      <td>None</td>\n",
       "      <td></td>\n",
       "      <td>San Diego</td>\n",
       "      <td>92101</td>\n",
       "      <td>US</td>\n",
       "      <td>CA</td>\n",
       "      <td>[1825 India Street, San Diego, CA 92101]</td>\n",
       "    </tr>\n",
       "  </tbody>\n",
       "</table>\n",
       "<p>5 rows × 24 columns</p>\n",
       "</div>"
      ],
      "text/plain": [
       "                       id                                          alias  \\\n",
       "0  4_vPdLbDx0Iadr2nANyCQQ         puesto-at-the-headquarters-san-diego-7   \n",
       "1  Sa_qcnc7ZgzSOylf3plTRA                              c-level-san-diego   \n",
       "2  OW2VM6KY0s2Ir04xg_o1sg  eddie-vs-prime-seafood-and-steaks-san-diego-2   \n",
       "3  7g8CKU-UqEJ4bnIH2G5HCQ                         cafe-sevilla-san-diego   \n",
       "4  W0dzJ7E6R3kyAOXIlO_tbw                   ristorante-illando-san-diego   \n",
       "\n",
       "                                 name  \\\n",
       "0          Puesto at the Headquarters   \n",
       "1                             C Level   \n",
       "2  Eddie V's Prime Seafood and Steaks   \n",
       "3                        Cafe Sevilla   \n",
       "4                  Ristorante Illando   \n",
       "\n",
       "                                           image_url  is_closed  \\\n",
       "0  https://s3-media2.fl.yelpcdn.com/bphoto/ixmqgQ...      False   \n",
       "1  https://s3-media4.fl.yelpcdn.com/bphoto/rE2Ti2...      False   \n",
       "2  https://s3-media2.fl.yelpcdn.com/bphoto/lYxMnk...      False   \n",
       "3  https://s3-media3.fl.yelpcdn.com/bphoto/9HZ24s...      False   \n",
       "4  https://s3-media3.fl.yelpcdn.com/bphoto/FXO-Kk...      False   \n",
       "\n",
       "                                                 url  review_count  \\\n",
       "0  https://www.yelp.com/biz/puesto-at-the-headqua...          3862   \n",
       "1  https://www.yelp.com/biz/c-level-san-diego?adj...          3159   \n",
       "2  https://www.yelp.com/biz/eddie-vs-prime-seafoo...          1346   \n",
       "3  https://www.yelp.com/biz/cafe-sevilla-san-dieg...          3331   \n",
       "4  https://www.yelp.com/biz/ristorante-illando-sa...          1204   \n",
       "\n",
       "                                          categories  rating  \\\n",
       "0  [{'alias': 'mexican', 'title': 'Mexican'}, {'a...     4.0   \n",
       "1  [{'alias': 'newamerican', 'title': 'American (...     4.0   \n",
       "2  [{'alias': 'seafood', 'title': 'Seafood'}, {'a...     4.5   \n",
       "3  [{'alias': 'spanish', 'title': 'Spanish'}, {'a...     4.0   \n",
       "4         [{'alias': 'italian', 'title': 'Italian'}]     4.5   \n",
       "\n",
       "                                 transactions  ... coordinates_latitude  \\\n",
       "0                          [pickup, delivery]  ...            32.711340   \n",
       "1                                          []  ...            32.724183   \n",
       "2                                          []  ...            32.710496   \n",
       "3  [restaurant_reservation, pickup, delivery]  ...            32.708977   \n",
       "4  [pickup, restaurant_reservation, delivery]  ...            32.724049   \n",
       "\n",
       "  coordinates_longitude     location_address1  location_address2  \\\n",
       "0           -117.170000       789 W Harbor Dr            Ste 155   \n",
       "1           -117.188348  880 Harbor Island Dr                      \n",
       "2           -117.170761       789 W Harbor Dr                      \n",
       "3           -117.159964           353 5th Ave                      \n",
       "4           -117.168190     1825 India Street               None   \n",
       "\n",
       "   location_address3  location_city location_zip_code location_country  \\\n",
       "0               None      San Diego             92101               US   \n",
       "1                         San Diego             92101               US   \n",
       "2                         San Diego             92101               US   \n",
       "3                         San Diego             92101               US   \n",
       "4                         San Diego             92101               US   \n",
       "\n",
       "  location_state                         location_display_address  \n",
       "0             CA  [789 W Harbor Dr, Ste 155, San Diego, CA 92101]  \n",
       "1             CA      [880 Harbor Island Dr, San Diego, CA 92101]  \n",
       "2             CA           [789 W Harbor Dr, San Diego, CA 92101]  \n",
       "3             CA               [353 5th Ave, San Diego, CA 92101]  \n",
       "4             CA         [1825 India Street, San Diego, CA 92101]  \n",
       "\n",
       "[5 rows x 24 columns]"
      ]
     },
     "execution_count": 93,
     "metadata": {},
     "output_type": "execute_result"
    }
   ],
   "source": [
    "df_final.head()"
   ]
  },
  {
   "cell_type": "code",
   "execution_count": 94,
   "metadata": {},
   "outputs": [
    {
     "data": {
      "text/plain": [
       "1000"
      ]
     },
     "execution_count": 94,
     "metadata": {},
     "output_type": "execute_result"
    }
   ],
   "source": [
    "len(df_final)"
   ]
  },
  {
   "cell_type": "code",
   "execution_count": 95,
   "metadata": {},
   "outputs": [],
   "source": [
    "with open('./../data/yelp.csv', 'w') as f:\n",
    "    df_final.to_csv(f, index=False)"
   ]
  }
 ],
 "metadata": {
  "kernelspec": {
   "display_name": "Python 3",
   "language": "python",
   "name": "python3"
  },
  "language_info": {
   "codemirror_mode": {
    "name": "ipython",
    "version": 3
   },
   "file_extension": ".py",
   "mimetype": "text/x-python",
   "name": "python",
   "nbconvert_exporter": "python",
   "pygments_lexer": "ipython3",
   "version": "3.7.4"
  },
  "toc": {
   "base_numbering": 1,
   "nav_menu": {},
   "number_sections": true,
   "sideBar": true,
   "skip_h1_title": false,
   "title_cell": "Table of Contents",
   "title_sidebar": "Contents",
   "toc_cell": false,
   "toc_position": {},
   "toc_section_display": true,
   "toc_window_display": false
  },
  "varInspector": {
   "cols": {
    "lenName": 16,
    "lenType": 16,
    "lenVar": 40
   },
   "kernels_config": {
    "python": {
     "delete_cmd_postfix": "",
     "delete_cmd_prefix": "del ",
     "library": "var_list.py",
     "varRefreshCmd": "print(var_dic_list())"
    },
    "r": {
     "delete_cmd_postfix": ") ",
     "delete_cmd_prefix": "rm(",
     "library": "var_list.r",
     "varRefreshCmd": "cat(var_dic_list()) "
    }
   },
   "types_to_exclude": [
    "module",
    "function",
    "builtin_function_or_method",
    "instance",
    "_Feature"
   ],
   "window_display": false
  }
 },
 "nbformat": 4,
 "nbformat_minor": 2
}
